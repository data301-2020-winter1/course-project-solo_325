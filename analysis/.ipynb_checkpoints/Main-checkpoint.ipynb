{
 "cells": [
  {
   "cell_type": "markdown",
   "metadata": {},
   "source": [
    "# Introduction\n",
    "### The purpose of this exploratory data analysis is to investigate how much of an impact the COVID19 outbreak has had on the airline industry. \n",
    "+ For the first part of this analysis we will look at the changes in passenger and cargo daily flight volumes. \n",
    "+ The prediction is that when the COVID19 lockdowns began in March 2020 the passenger flight volumes began to drop rapidly around this time. It is expected that the number of flights continued to stay low  \n",
    "\n"
   ]
  }
 ],
 "metadata": {
  "kernelspec": {
   "display_name": "Python 3",
   "language": "python",
   "name": "python3"
  },
  "language_info": {
   "codemirror_mode": {
    "name": "ipython",
    "version": 3
   },
   "file_extension": ".py",
   "mimetype": "text/x-python",
   "name": "python",
   "nbconvert_exporter": "python",
   "pygments_lexer": "ipython3",
   "version": "3.8.3"
  }
 },
 "nbformat": 4,
 "nbformat_minor": 4
}
