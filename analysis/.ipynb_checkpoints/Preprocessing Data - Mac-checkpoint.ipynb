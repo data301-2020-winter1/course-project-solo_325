{
 "cells": [
  {
   "cell_type": "code",
   "execution_count": 2,
   "metadata": {},
   "outputs": [
    {
     "name": "stderr",
     "output_type": "stream",
     "text": [
      "/Users/luke/opt/miniconda3/lib/python3.8/site-packages/IPython/core/interactiveshell.py:3145: DtypeWarning: Columns (1) have mixed types.Specify dtype option on import or set low_memory=False.\n",
      "  has_raised = await self.run_ast_nodes(code_ast.body, cell_name,\n"
     ]
    },
    {
     "ename": "KeyboardInterrupt",
     "evalue": "",
     "output_type": "error",
     "traceback": [
      "\u001b[0;31m---------------------------------------------------------------------------\u001b[0m",
      "\u001b[0;31mKeyboardInterrupt\u001b[0m                         Traceback (most recent call last)",
      "\u001b[0;32m<ipython-input-2-208022388550>\u001b[0m in \u001b[0;36m<module>\u001b[0;34m\u001b[0m\n\u001b[1;32m     16\u001b[0m \u001b[0mdf20_1\u001b[0m \u001b[0;34m=\u001b[0m \u001b[0mpd\u001b[0m\u001b[0;34m.\u001b[0m\u001b[0mread_csv\u001b[0m\u001b[0;34m(\u001b[0m\u001b[0;34mr\"/Users/luke/Documents/UBCO/Data_301/Course_Project/course-project-solo_325/data/raw/oversized_data/flightlist_20200101_20200131.csv\"\u001b[0m\u001b[0;34m)\u001b[0m\u001b[0;34m\u001b[0m\u001b[0;34m\u001b[0m\u001b[0m\n\u001b[1;32m     17\u001b[0m \u001b[0mdf20_2\u001b[0m \u001b[0;34m=\u001b[0m \u001b[0mpd\u001b[0m\u001b[0;34m.\u001b[0m\u001b[0mread_csv\u001b[0m\u001b[0;34m(\u001b[0m\u001b[0;34mr\"/Users/luke/Documents/UBCO/Data_301/Course_Project/course-project-solo_325/data/raw/oversized_data/flightlist_20200201_20200229.csv\"\u001b[0m\u001b[0;34m)\u001b[0m\u001b[0;34m\u001b[0m\u001b[0;34m\u001b[0m\u001b[0m\n\u001b[0;32m---> 18\u001b[0;31m \u001b[0mdf20_3\u001b[0m \u001b[0;34m=\u001b[0m \u001b[0mpd\u001b[0m\u001b[0;34m.\u001b[0m\u001b[0mread_csv\u001b[0m\u001b[0;34m(\u001b[0m\u001b[0;34mr\"/Users/luke/Documents/UBCO/Data_301/Course_Project/course-project-solo_325/data/raw/oversized_data/flightlist_20200301_20200331.csv\"\u001b[0m\u001b[0;34m)\u001b[0m\u001b[0;34m\u001b[0m\u001b[0;34m\u001b[0m\u001b[0m\n\u001b[0m\u001b[1;32m     19\u001b[0m \u001b[0mdf20_4\u001b[0m \u001b[0;34m=\u001b[0m \u001b[0mpd\u001b[0m\u001b[0;34m.\u001b[0m\u001b[0mread_csv\u001b[0m\u001b[0;34m(\u001b[0m\u001b[0;34mr\"/Users/luke/Documents/UBCO/Data_301/Course_Project/course-project-solo_325/data/raw/oversized_data/flightlist_20200401_20200430.csv\"\u001b[0m\u001b[0;34m)\u001b[0m\u001b[0;34m\u001b[0m\u001b[0;34m\u001b[0m\u001b[0m\n\u001b[1;32m     20\u001b[0m \u001b[0mdf20_5\u001b[0m \u001b[0;34m=\u001b[0m \u001b[0mpd\u001b[0m\u001b[0;34m.\u001b[0m\u001b[0mread_csv\u001b[0m\u001b[0;34m(\u001b[0m\u001b[0;34mr\"/Users/luke/Documents/UBCO/Data_301/Course_Project/course-project-solo_325/data/raw/oversized_data/flightlist_20200501_20200531.csv\"\u001b[0m\u001b[0;34m)\u001b[0m\u001b[0;34m\u001b[0m\u001b[0;34m\u001b[0m\u001b[0m\n",
      "\u001b[0;32m~/opt/miniconda3/lib/python3.8/site-packages/pandas/io/parsers.py\u001b[0m in \u001b[0;36mparser_f\u001b[0;34m(filepath_or_buffer, sep, delimiter, header, names, index_col, usecols, squeeze, prefix, mangle_dupe_cols, dtype, engine, converters, true_values, false_values, skipinitialspace, skiprows, skipfooter, nrows, na_values, keep_default_na, na_filter, verbose, skip_blank_lines, parse_dates, infer_datetime_format, keep_date_col, date_parser, dayfirst, cache_dates, iterator, chunksize, compression, thousands, decimal, lineterminator, quotechar, quoting, doublequote, escapechar, comment, encoding, dialect, error_bad_lines, warn_bad_lines, delim_whitespace, low_memory, memory_map, float_precision)\u001b[0m\n\u001b[1;32m    674\u001b[0m         )\n\u001b[1;32m    675\u001b[0m \u001b[0;34m\u001b[0m\u001b[0m\n\u001b[0;32m--> 676\u001b[0;31m         \u001b[0;32mreturn\u001b[0m \u001b[0m_read\u001b[0m\u001b[0;34m(\u001b[0m\u001b[0mfilepath_or_buffer\u001b[0m\u001b[0;34m,\u001b[0m \u001b[0mkwds\u001b[0m\u001b[0;34m)\u001b[0m\u001b[0;34m\u001b[0m\u001b[0;34m\u001b[0m\u001b[0m\n\u001b[0m\u001b[1;32m    677\u001b[0m \u001b[0;34m\u001b[0m\u001b[0m\n\u001b[1;32m    678\u001b[0m     \u001b[0mparser_f\u001b[0m\u001b[0;34m.\u001b[0m\u001b[0m__name__\u001b[0m \u001b[0;34m=\u001b[0m \u001b[0mname\u001b[0m\u001b[0;34m\u001b[0m\u001b[0;34m\u001b[0m\u001b[0m\n",
      "\u001b[0;32m~/opt/miniconda3/lib/python3.8/site-packages/pandas/io/parsers.py\u001b[0m in \u001b[0;36m_read\u001b[0;34m(filepath_or_buffer, kwds)\u001b[0m\n\u001b[1;32m    452\u001b[0m \u001b[0;34m\u001b[0m\u001b[0m\n\u001b[1;32m    453\u001b[0m     \u001b[0;32mtry\u001b[0m\u001b[0;34m:\u001b[0m\u001b[0;34m\u001b[0m\u001b[0;34m\u001b[0m\u001b[0m\n\u001b[0;32m--> 454\u001b[0;31m         \u001b[0mdata\u001b[0m \u001b[0;34m=\u001b[0m \u001b[0mparser\u001b[0m\u001b[0;34m.\u001b[0m\u001b[0mread\u001b[0m\u001b[0;34m(\u001b[0m\u001b[0mnrows\u001b[0m\u001b[0;34m)\u001b[0m\u001b[0;34m\u001b[0m\u001b[0;34m\u001b[0m\u001b[0m\n\u001b[0m\u001b[1;32m    455\u001b[0m     \u001b[0;32mfinally\u001b[0m\u001b[0;34m:\u001b[0m\u001b[0;34m\u001b[0m\u001b[0;34m\u001b[0m\u001b[0m\n\u001b[1;32m    456\u001b[0m         \u001b[0mparser\u001b[0m\u001b[0;34m.\u001b[0m\u001b[0mclose\u001b[0m\u001b[0;34m(\u001b[0m\u001b[0;34m)\u001b[0m\u001b[0;34m\u001b[0m\u001b[0;34m\u001b[0m\u001b[0m\n",
      "\u001b[0;32m~/opt/miniconda3/lib/python3.8/site-packages/pandas/io/parsers.py\u001b[0m in \u001b[0;36mread\u001b[0;34m(self, nrows)\u001b[0m\n\u001b[1;32m   1131\u001b[0m     \u001b[0;32mdef\u001b[0m \u001b[0mread\u001b[0m\u001b[0;34m(\u001b[0m\u001b[0mself\u001b[0m\u001b[0;34m,\u001b[0m \u001b[0mnrows\u001b[0m\u001b[0;34m=\u001b[0m\u001b[0;32mNone\u001b[0m\u001b[0;34m)\u001b[0m\u001b[0;34m:\u001b[0m\u001b[0;34m\u001b[0m\u001b[0;34m\u001b[0m\u001b[0m\n\u001b[1;32m   1132\u001b[0m         \u001b[0mnrows\u001b[0m \u001b[0;34m=\u001b[0m \u001b[0m_validate_integer\u001b[0m\u001b[0;34m(\u001b[0m\u001b[0;34m\"nrows\"\u001b[0m\u001b[0;34m,\u001b[0m \u001b[0mnrows\u001b[0m\u001b[0;34m)\u001b[0m\u001b[0;34m\u001b[0m\u001b[0;34m\u001b[0m\u001b[0m\n\u001b[0;32m-> 1133\u001b[0;31m         \u001b[0mret\u001b[0m \u001b[0;34m=\u001b[0m \u001b[0mself\u001b[0m\u001b[0;34m.\u001b[0m\u001b[0m_engine\u001b[0m\u001b[0;34m.\u001b[0m\u001b[0mread\u001b[0m\u001b[0;34m(\u001b[0m\u001b[0mnrows\u001b[0m\u001b[0;34m)\u001b[0m\u001b[0;34m\u001b[0m\u001b[0;34m\u001b[0m\u001b[0m\n\u001b[0m\u001b[1;32m   1134\u001b[0m \u001b[0;34m\u001b[0m\u001b[0m\n\u001b[1;32m   1135\u001b[0m         \u001b[0;31m# May alter columns / col_dict\u001b[0m\u001b[0;34m\u001b[0m\u001b[0;34m\u001b[0m\u001b[0;34m\u001b[0m\u001b[0m\n",
      "\u001b[0;32m~/opt/miniconda3/lib/python3.8/site-packages/pandas/io/parsers.py\u001b[0m in \u001b[0;36mread\u001b[0;34m(self, nrows)\u001b[0m\n\u001b[1;32m   2035\u001b[0m     \u001b[0;32mdef\u001b[0m \u001b[0mread\u001b[0m\u001b[0;34m(\u001b[0m\u001b[0mself\u001b[0m\u001b[0;34m,\u001b[0m \u001b[0mnrows\u001b[0m\u001b[0;34m=\u001b[0m\u001b[0;32mNone\u001b[0m\u001b[0;34m)\u001b[0m\u001b[0;34m:\u001b[0m\u001b[0;34m\u001b[0m\u001b[0;34m\u001b[0m\u001b[0m\n\u001b[1;32m   2036\u001b[0m         \u001b[0;32mtry\u001b[0m\u001b[0;34m:\u001b[0m\u001b[0;34m\u001b[0m\u001b[0;34m\u001b[0m\u001b[0m\n\u001b[0;32m-> 2037\u001b[0;31m             \u001b[0mdata\u001b[0m \u001b[0;34m=\u001b[0m \u001b[0mself\u001b[0m\u001b[0;34m.\u001b[0m\u001b[0m_reader\u001b[0m\u001b[0;34m.\u001b[0m\u001b[0mread\u001b[0m\u001b[0;34m(\u001b[0m\u001b[0mnrows\u001b[0m\u001b[0;34m)\u001b[0m\u001b[0;34m\u001b[0m\u001b[0;34m\u001b[0m\u001b[0m\n\u001b[0m\u001b[1;32m   2038\u001b[0m         \u001b[0;32mexcept\u001b[0m \u001b[0mStopIteration\u001b[0m\u001b[0;34m:\u001b[0m\u001b[0;34m\u001b[0m\u001b[0;34m\u001b[0m\u001b[0m\n\u001b[1;32m   2039\u001b[0m             \u001b[0;32mif\u001b[0m \u001b[0mself\u001b[0m\u001b[0;34m.\u001b[0m\u001b[0m_first_chunk\u001b[0m\u001b[0;34m:\u001b[0m\u001b[0;34m\u001b[0m\u001b[0;34m\u001b[0m\u001b[0m\n",
      "\u001b[0;32mpandas/_libs/parsers.pyx\u001b[0m in \u001b[0;36mpandas._libs.parsers.TextReader.read\u001b[0;34m()\u001b[0m\n",
      "\u001b[0;32mpandas/_libs/parsers.pyx\u001b[0m in \u001b[0;36mpandas._libs.parsers.TextReader._read_low_memory\u001b[0;34m()\u001b[0m\n",
      "\u001b[0;32mpandas/_libs/parsers.pyx\u001b[0m in \u001b[0;36mpandas._libs.parsers.TextReader._read_rows\u001b[0;34m()\u001b[0m\n",
      "\u001b[0;32mpandas/_libs/parsers.pyx\u001b[0m in \u001b[0;36mpandas._libs.parsers.TextReader._convert_column_data\u001b[0;34m()\u001b[0m\n",
      "\u001b[0;32mpandas/_libs/parsers.pyx\u001b[0m in \u001b[0;36mpandas._libs.parsers.TextReader._convert_tokens\u001b[0;34m()\u001b[0m\n",
      "\u001b[0;32mpandas/_libs/parsers.pyx\u001b[0m in \u001b[0;36mpandas._libs.parsers.TextReader._convert_with_dtype\u001b[0;34m()\u001b[0m\n",
      "\u001b[0;32m~/opt/miniconda3/lib/python3.8/site-packages/pandas/core/dtypes/common.py\u001b[0m in \u001b[0;36mis_categorical_dtype\u001b[0;34m(arr_or_dtype)\u001b[0m\n\u001b[1;32m    540\u001b[0m \u001b[0;34m\u001b[0m\u001b[0m\n\u001b[1;32m    541\u001b[0m \u001b[0;34m\u001b[0m\u001b[0m\n\u001b[0;32m--> 542\u001b[0;31m \u001b[0;32mdef\u001b[0m \u001b[0mis_categorical_dtype\u001b[0m\u001b[0;34m(\u001b[0m\u001b[0marr_or_dtype\u001b[0m\u001b[0;34m)\u001b[0m \u001b[0;34m->\u001b[0m \u001b[0mbool\u001b[0m\u001b[0;34m:\u001b[0m\u001b[0;34m\u001b[0m\u001b[0;34m\u001b[0m\u001b[0m\n\u001b[0m\u001b[1;32m    543\u001b[0m     \"\"\"\n\u001b[1;32m    544\u001b[0m     \u001b[0mCheck\u001b[0m \u001b[0mwhether\u001b[0m \u001b[0man\u001b[0m \u001b[0marray\u001b[0m\u001b[0;34m-\u001b[0m\u001b[0mlike\u001b[0m \u001b[0;32mor\u001b[0m \u001b[0mdtype\u001b[0m \u001b[0;32mis\u001b[0m \u001b[0mof\u001b[0m \u001b[0mthe\u001b[0m \u001b[0mCategorical\u001b[0m \u001b[0mdtype\u001b[0m\u001b[0;34m.\u001b[0m\u001b[0;34m\u001b[0m\u001b[0;34m\u001b[0m\u001b[0m\n",
      "\u001b[0;31mKeyboardInterrupt\u001b[0m: "
     ]
    }
   ],
   "source": [
    "import pandas as pd\n",
    "\n",
    "df19_1 = pd.read_csv(r\"/Users/luke/Documents/UBCO/Data_301/Course_Project/course-project-solo_325/data/raw/oversized_data/flightlist_20190101_20190131.csv\")\n",
    "df19_2 = pd.read_csv(r\"/Users/luke/Documents/UBCO/Data_301/Course_Project/course-project-solo_325/data/raw/oversized_data/flightlist_20190201_20190228.csv\")\n",
    "df19_3 = pd.read_csv(r\"/Users/luke/Documents/UBCO/Data_301/Course_Project/course-project-solo_325/data/raw/oversized_data/flightlist_20190301_20190331.csv\")\n",
    "df19_4 = pd.read_csv(r\"/Users/luke/Documents/UBCO/Data_301/Course_Project/course-project-solo_325/data/raw/oversized_data/flightlist_20190401_20190430.csv\")\n",
    "df19_5 = pd.read_csv(r\"/Users/luke/Documents/UBCO/Data_301/Course_Project/course-project-solo_325/data/raw/oversized_data/flightlist_20190501_20190531.csv\")\n",
    "df19_6 = pd.read_csv(r\"/Users/luke/Documents/UBCO/Data_301/Course_Project/course-project-solo_325/data/raw/oversized_data/flightlist_20190601_20190630.csv\")\n",
    "df19_7 = pd.read_csv(r\"/Users/luke/Documents/UBCO/Data_301/Course_Project/course-project-solo_325/data/raw/oversized_data/flightlist_20190701_20190731.csv\")\n",
    "df19_8 = pd.read_csv(r\"/Users/luke/Documents/UBCO/Data_301/Course_Project/course-project-solo_325/data/raw/oversized_data/flightlist_20190801_20190831.csv\")\n",
    "df19_9 = pd.read_csv(r\"/Users/luke/Documents/UBCO/Data_301/Course_Project/course-project-solo_325/data/raw/oversized_data/flightlist_20190901_20190930.csv\")\n",
    "df19_10 = pd.read_csv(r\"/Users/luke/Documents/UBCO/Data_301/Course_Project/course-project-solo_325/data/raw/oversized_data/flightlist_20191001_20191031.csv\")\n",
    "df19_11 = pd.read_csv(r\"/Users/luke/Documents/UBCO/Data_301/Course_Project/course-project-solo_325/data/raw/oversized_data/flightlist_20191101_20191130.csv\")\n",
    "df19_12 = pd.read_csv(r\"/Users/luke/Documents/UBCO/Data_301/Course_Project/course-project-solo_325/data/raw/oversized_data/flightlist_20191201_20191231.csv\")\n",
    "\n",
    "df20_1 = pd.read_csv(r\"/Users/luke/Documents/UBCO/Data_301/Course_Project/course-project-solo_325/data/raw/oversized_data/flightlist_20200101_20200131.csv\")\n",
    "df20_2 = pd.read_csv(r\"/Users/luke/Documents/UBCO/Data_301/Course_Project/course-project-solo_325/data/raw/oversized_data/flightlist_20200201_20200229.csv\")\n",
    "df20_3 = pd.read_csv(r\"/Users/luke/Documents/UBCO/Data_301/Course_Project/course-project-solo_325/data/raw/oversized_data/flightlist_20200301_20200331.csv\")\n",
    "df20_4 = pd.read_csv(r\"/Users/luke/Documents/UBCO/Data_301/Course_Project/course-project-solo_325/data/raw/oversized_data/flightlist_20200401_20200430.csv\")\n",
    "df20_5 = pd.read_csv(r\"/Users/luke/Documents/UBCO/Data_301/Course_Project/course-project-solo_325/data/raw/oversized_data/flightlist_20200501_20200531.csv\")\n",
    "df20_6 = pd.read_csv(r\"/Users/luke/Documents/UBCO/Data_301/Course_Project/course-project-solo_325/data/raw/oversized_data/flightlist_20200601_20200630.csv\")\n",
    "df20_7 = pd.read_csv(r\"/Users/luke/Documents/UBCO/Data_301/Course_Project/course-project-solo_325/data/raw/oversized_data/flightlist_20200701_20200731.csv\")\n",
    "df20_8 = pd.read_csv(r\"/Users/luke/Documents/UBCO/Data_301/Course_Project/course-project-solo_325/data/raw/oversized_data/flightlist_20200801_20200831.csv\")\n",
    "df20_9 = pd.read_csv(r\"/Users/luke/Documents/UBCO/Data_301/Course_Project/course-project-solo_325/data/raw/oversized_data/flightlist_20200901_20200930.csv\")\n",
    "\n",
    "\n",
    "df19_1f = df19_1[df19_1['callsign'].str.contains(\"ANA\") | df19_1['callsign'].str.contains('UPS')] \n",
    "df19_2f = df19_2[df19_2['callsign'].str.contains(\"ANA\") | df19_2['callsign'].str.contains('UPS')] \n",
    "df19_3f = df19_3[df19_3['callsign'].str.contains(\"ANA\") | df19_3['callsign'].str.contains('UPS')] \n",
    "df19_4f = df19_4[df19_4['callsign'].str.contains(\"ANA\") | df19_4['callsign'].str.contains('UPS')] \n",
    "df19_5f = df19_5[df19_5['callsign'].str.contains(\"ANA\") | df19_5['callsign'].str.contains('UPS')] \n",
    "df19_6f = df19_6[df19_6['callsign'].str.contains(\"ANA\") | df19_6['callsign'].str.contains('UPS')] \n",
    "df19_7f = df19_7[df19_7['callsign'].str.contains(\"ANA\") | df19_7['callsign'].str.contains('UPS')] \n",
    "df19_8f = df19_8[df19_8['callsign'].str.contains(\"ANA\") | df19_8['callsign'].str.contains('UPS')] \n",
    "df19_9f = df19_9[df19_9['callsign'].str.contains(\"ANA\") | df19_9['callsign'].str.contains('UPS')] \n",
    "df19_10f = df19_10[df19_10['callsign'].str.contains(\"ANA\") | df19_10['callsign'].str.contains('UPS')] \n",
    "df19_11f = df19_11[df19_11['callsign'].str.contains(\"ANA\") | df19_11['callsign'].str.contains('UPS')] \n",
    "df19_12f = df19_12[df19_12['callsign'].str.contains(\"ANA\") | df19_12['callsign'].str.contains('UPS')] \n",
    "\n",
    "df20_1f = df20_1[df20_1['callsign'].str.contains(\"ANA\") | df20_1['callsign'].str.contains('UPS')] \n",
    "df20_2f = df20_2[df20_2['callsign'].str.contains(\"ANA\") | df20_2['callsign'].str.contains('UPS')] \n",
    "df20_3f = df20_3[df20_3['callsign'].str.contains(\"ANA\") | df20_3['callsign'].str.contains('UPS')] \n",
    "df20_4f = df20_4[df20_4['callsign'].str.contains(\"ANA\") | df20_4['callsign'].str.contains('UPS')] \n",
    "df20_5f = df20_5[df20_5['callsign'].str.contains(\"ANA\") | df20_5['callsign'].str.contains('UPS')] \n",
    "df20_6f = df20_6[df20_6['callsign'].str.contains(\"ANA\") | df20_6['callsign'].str.contains('UPS')] \n",
    "df20_7f = df20_7[df20_7['callsign'].str.contains(\"ANA\") | df20_7['callsign'].str.contains('UPS')] \n",
    "df20_8f = df20_8[df20_8['callsign'].str.contains(\"ANA\") | df20_8['callsign'].str.contains('UPS')] \n",
    "df20_9f = df20_9[df20_9['callsign'].str.contains(\"ANA\") | df20_9['callsign'].str.contains('UPS')] \n",
    "\n",
    "\n",
    "df_19 = pd.concat([df19_1f, df19_2f, df19_3f, df19_4f, df19_5f, df19_6f, df19_7f, df19_8f, df19_9f, df19_10f, df19_11f, df19_12f])\n",
    "df_20 = pd.concat([df20_1f, df20_2f, df20_3f, df20_4f, df20_5f, df20_6f, df20_7f, df20_8f, df20_9f])\n",
    "pd_complete = pd.concat([df_19, df_20])\n",
    "\n",
    "print(df_complete)\n",
    "df_complete.to_csv('rawdata.csv')\n"
   ]
  },
  {
   "cell_type": "code",
   "execution_count": null,
   "metadata": {},
   "outputs": [],
   "source": []
  },
  {
   "cell_type": "code",
   "execution_count": null,
   "metadata": {},
   "outputs": [],
   "source": []
  },
  {
   "cell_type": "code",
   "execution_count": null,
   "metadata": {},
   "outputs": [],
   "source": []
  }
 ],
 "metadata": {
  "kernelspec": {
   "display_name": "Python 3",
   "language": "python",
   "name": "python3"
  },
  "language_info": {
   "codemirror_mode": {
    "name": "ipython",
    "version": 3
   },
   "file_extension": ".py",
   "mimetype": "text/x-python",
   "name": "python",
   "nbconvert_exporter": "python",
   "pygments_lexer": "ipython3",
   "version": "3.8.3"
  }
 },
 "nbformat": 4,
 "nbformat_minor": 4
}
