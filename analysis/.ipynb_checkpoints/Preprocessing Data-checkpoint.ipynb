{
 "cells": [
  {
   "cell_type": "markdown",
   "metadata": {},
   "source": [
    "#### *This method creates the EDA 1 cargo flight data file*"
   ]
  },
  {
   "cell_type": "code",
   "execution_count": 1,
   "metadata": {},
   "outputs": [],
   "source": [
    "import pandas as pd\n",
    "import glob, os\n",
    "\n",
    "#This method can be used to read and filter multiple csv files, \n",
    "#concatenate them and then write the data to a new csv file\n",
    "path = '/Users/luke/Documents/UBCO/Data_301/Course_Project/course-project-solo_325/data/raw/oversized_data'\n",
    "all_files = glob.glob(os.path.join(path + \"/flightlist_*.csv\"))\n",
    "\n",
    "#                                        Change these parameters for filter for different inputs\n",
    "df_current = (pd.read_csv(f, usecols = ['callsign','typecode','origin','destination','firstseen']) for f in all_files)\n",
    "dfy = pd.concat(df_current, ignore_index = True)\n"
   ]
  },
  {
   "cell_type": "code",
   "execution_count": 11,
   "metadata": {},
   "outputs": [
    {
     "data": {
      "text/html": [
       "<div>\n",
       "<style scoped>\n",
       "    .dataframe tbody tr th:only-of-type {\n",
       "        vertical-align: middle;\n",
       "    }\n",
       "\n",
       "    .dataframe tbody tr th {\n",
       "        vertical-align: top;\n",
       "    }\n",
       "\n",
       "    .dataframe thead th {\n",
       "        text-align: right;\n",
       "    }\n",
       "</style>\n",
       "<table border=\"1\" class=\"dataframe\">\n",
       "  <thead>\n",
       "    <tr style=\"text-align: right;\">\n",
       "      <th></th>\n",
       "      <th>callsign</th>\n",
       "      <th>typecode</th>\n",
       "      <th>origin</th>\n",
       "      <th>destination</th>\n",
       "      <th>firstseen</th>\n",
       "    </tr>\n",
       "  </thead>\n",
       "  <tbody>\n",
       "    <tr>\n",
       "      <th>8</th>\n",
       "      <td>FDX77</td>\n",
       "      <td>B77L</td>\n",
       "      <td>KOAK</td>\n",
       "      <td>YSSY</td>\n",
       "      <td>2020-07-31 11:02:21+00:00</td>\n",
       "    </tr>\n",
       "    <tr>\n",
       "      <th>17</th>\n",
       "      <td>CLX7309</td>\n",
       "      <td>B744</td>\n",
       "      <td>VHHH</td>\n",
       "      <td>ELLX</td>\n",
       "      <td>2020-07-31 12:04:53+00:00</td>\n",
       "    </tr>\n",
       "    <tr>\n",
       "      <th>23</th>\n",
       "      <td>FDX15</td>\n",
       "      <td>B77L</td>\n",
       "      <td>NaN</td>\n",
       "      <td>NaN</td>\n",
       "      <td>2020-07-31 12:22:56+00:00</td>\n",
       "    </tr>\n",
       "    <tr>\n",
       "      <th>28</th>\n",
       "      <td>GEC8400</td>\n",
       "      <td>B77L</td>\n",
       "      <td>EDDF</td>\n",
       "      <td>RKSI</td>\n",
       "      <td>2020-07-31 12:52:48+00:00</td>\n",
       "    </tr>\n",
       "    <tr>\n",
       "      <th>54</th>\n",
       "      <td>FDX5926</td>\n",
       "      <td>B77L</td>\n",
       "      <td>RKSI</td>\n",
       "      <td>RKSI</td>\n",
       "      <td>2020-07-31 14:00:52+00:00</td>\n",
       "    </tr>\n",
       "  </tbody>\n",
       "</table>\n",
       "</div>"
      ],
      "text/plain": [
       "   callsign typecode origin destination                  firstseen\n",
       "8     FDX77     B77L   KOAK        YSSY  2020-07-31 11:02:21+00:00\n",
       "17  CLX7309     B744   VHHH        ELLX  2020-07-31 12:04:53+00:00\n",
       "23    FDX15     B77L    NaN         NaN  2020-07-31 12:22:56+00:00\n",
       "28  GEC8400     B77L   EDDF        RKSI  2020-07-31 12:52:48+00:00\n",
       "54  FDX5926     B77L   RKSI        RKSI  2020-07-31 14:00:52+00:00"
      ]
     },
     "execution_count": 11,
     "metadata": {},
     "output_type": "execute_result"
    }
   ],
   "source": [
    "dfz = dfy[dfy['callsign'].str.contains('FDX') | dfy['callsign'].str.contains('GEC') | dfy['callsign'].str.contains('UPS') | dfy['callsign'].str.contains('CLX')]\n",
    "dfz.head()\n"
   ]
  },
  {
   "cell_type": "code",
   "execution_count": 12,
   "metadata": {},
   "outputs": [],
   "source": [
    "#Ensure to change .csv name for each new csv extraction\n",
    "dfz.to_csv('/Users/luke/Documents/UBCO/Data_301/Course_Project/course-project-solo_325/data/raw/PartI_Cargo.csv')\n"
   ]
  },
  {
   "cell_type": "markdown",
   "metadata": {},
   "source": [
    "#### *This method creates the EDA 1 passenger flight data file*"
   ]
  },
  {
   "cell_type": "code",
   "execution_count": 4,
   "metadata": {},
   "outputs": [
    {
     "data": {
      "text/html": [
       "<div>\n",
       "<style scoped>\n",
       "    .dataframe tbody tr th:only-of-type {\n",
       "        vertical-align: middle;\n",
       "    }\n",
       "\n",
       "    .dataframe tbody tr th {\n",
       "        vertical-align: top;\n",
       "    }\n",
       "\n",
       "    .dataframe thead th {\n",
       "        text-align: right;\n",
       "    }\n",
       "</style>\n",
       "<table border=\"1\" class=\"dataframe\">\n",
       "  <thead>\n",
       "    <tr style=\"text-align: right;\">\n",
       "      <th></th>\n",
       "      <th>callsign</th>\n",
       "      <th>typecode</th>\n",
       "      <th>origin</th>\n",
       "      <th>destination</th>\n",
       "      <th>firstseen</th>\n",
       "    </tr>\n",
       "  </thead>\n",
       "  <tbody>\n",
       "    <tr>\n",
       "      <th>19</th>\n",
       "      <td>UAL2832</td>\n",
       "      <td>B772</td>\n",
       "      <td>KSFO</td>\n",
       "      <td>RKSI</td>\n",
       "      <td>2020-07-31 12:12:22+00:00</td>\n",
       "    </tr>\n",
       "    <tr>\n",
       "      <th>44</th>\n",
       "      <td>UAL2851</td>\n",
       "      <td>B77W</td>\n",
       "      <td>VHHH</td>\n",
       "      <td>KLAX</td>\n",
       "      <td>2020-07-31 13:33:42+00:00</td>\n",
       "    </tr>\n",
       "    <tr>\n",
       "      <th>45</th>\n",
       "      <td>UAL2818</td>\n",
       "      <td>B789</td>\n",
       "      <td>NaN</td>\n",
       "      <td>KORD</td>\n",
       "      <td>2020-07-31 13:40:50+00:00</td>\n",
       "    </tr>\n",
       "    <tr>\n",
       "      <th>48</th>\n",
       "      <td>UAL2849</td>\n",
       "      <td>NaN</td>\n",
       "      <td>RCTP</td>\n",
       "      <td>KSFO</td>\n",
       "      <td>2020-07-31 13:47:06+00:00</td>\n",
       "    </tr>\n",
       "    <tr>\n",
       "      <th>61</th>\n",
       "      <td>UAL2825</td>\n",
       "      <td>B789</td>\n",
       "      <td>NaN</td>\n",
       "      <td>KEWR</td>\n",
       "      <td>2020-07-31 14:14:35+00:00</td>\n",
       "    </tr>\n",
       "  </tbody>\n",
       "</table>\n",
       "</div>"
      ],
      "text/plain": [
       "   callsign typecode origin destination                  firstseen\n",
       "19  UAL2832     B772   KSFO        RKSI  2020-07-31 12:12:22+00:00\n",
       "44  UAL2851     B77W   VHHH        KLAX  2020-07-31 13:33:42+00:00\n",
       "45  UAL2818     B789    NaN        KORD  2020-07-31 13:40:50+00:00\n",
       "48  UAL2849      NaN   RCTP        KSFO  2020-07-31 13:47:06+00:00\n",
       "61  UAL2825     B789    NaN        KEWR  2020-07-31 14:14:35+00:00"
      ]
     },
     "execution_count": 4,
     "metadata": {},
     "output_type": "execute_result"
    }
   ],
   "source": [
    "#Input value = \"airline name\" in \"str.contains(value)\" to extract data for whichever airline\n",
    "dfk = dfy[dfy['callsign'].str.contains('ANA') | dfy['callsign'].str.contains('UAL')]\n",
    "dfk.head()\n"
   ]
  },
  {
   "cell_type": "code",
   "execution_count": 5,
   "metadata": {},
   "outputs": [],
   "source": [
    "#Ensure to change .csv name for each new csv extraction\n",
    "dfk.to_csv('/Users/luke/Documents/UBCO/Data_301/Course_Project/course-project-solo_325/data/raw/PartI_Passenger.csv')"
   ]
  },
  {
   "cell_type": "markdown",
   "metadata": {},
   "source": [
    "#### *This method creates the EDA 2 flight data files*"
   ]
  },
  {
   "cell_type": "code",
   "execution_count": 2,
   "metadata": {},
   "outputs": [],
   "source": [
    "import pandas as pd\n",
    "import glob, os\n",
    "\n",
    "#This method can be used to read and filter multiple csv files, \n",
    "#concatenate them and then write the data to a new csv file\n",
    "path = '/Users/luke/Documents/UBCO/Data_301/Course_Project/course-project-solo_325/data/raw/oversized_data'\n",
    "all_files = glob.glob(os.path.join(path + \"/flightlist_*.csv\"))\n",
    "\n",
    "#                                        Change these parameters for filter for different inputs\n",
    "df_current = (pd.read_csv(f, usecols = ['callsign','typecode','origin','destination','firstseen','latitude_1','longitude_1','latitude_2','longitude_2']) for f in all_files)\n",
    "df2 = pd.concat(df_current, ignore_index = True)\n",
    "\n",
    "#dfz = pd.concat(df_current, ignore_index = True)"
   ]
  },
  {
   "cell_type": "code",
   "execution_count": 10,
   "metadata": {},
   "outputs": [],
   "source": [
    "df2_passenger = df2[df2['callsign'].str.contains('DLH')]"
   ]
  },
  {
   "cell_type": "code",
   "execution_count": 11,
   "metadata": {},
   "outputs": [],
   "source": [
    "df2_passenger.to_csv('/Users/luke/Documents/UBCO/Data_301/Course_Project/course-project-solo_325/data/raw/PartII_passenger.csv')"
   ]
  },
  {
   "cell_type": "code",
   "execution_count": 12,
   "metadata": {},
   "outputs": [],
   "source": [
    "df2_cargo = df2[df2['callsign'].str.contains('GEC')]"
   ]
  },
  {
   "cell_type": "code",
   "execution_count": 13,
   "metadata": {},
   "outputs": [],
   "source": [
    "df2_cargo.to_csv('/Users/luke/Documents/UBCO/Data_301/Course_Project/course-project-solo_325/data/raw/PartII_cargo.csv')"
   ]
  },
  {
   "cell_type": "markdown",
   "metadata": {},
   "source": [
    "#### *This method prepares flight data to be used in tableau*"
   ]
  },
  {
   "cell_type": "code",
   "execution_count": null,
   "metadata": {},
   "outputs": [],
   "source": []
  }
 ],
 "metadata": {
  "kernelspec": {
   "display_name": "Python 3",
   "language": "python",
   "name": "python3"
  },
  "language_info": {
   "codemirror_mode": {
    "name": "ipython",
    "version": 3
   },
   "file_extension": ".py",
   "mimetype": "text/x-python",
   "name": "python",
   "nbconvert_exporter": "python",
   "pygments_lexer": "ipython3",
   "version": "3.8.3"
  }
 },
 "nbformat": 4,
 "nbformat_minor": 4
}
