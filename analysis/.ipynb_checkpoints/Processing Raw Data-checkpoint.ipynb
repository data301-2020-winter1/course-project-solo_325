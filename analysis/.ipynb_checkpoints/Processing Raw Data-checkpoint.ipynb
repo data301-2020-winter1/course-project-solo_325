{
 "cells": [
  {
   "cell_type": "code",
   "execution_count": 38,
   "metadata": {
    "scrolled": false
   },
   "outputs": [
    {
     "name": "stdout",
     "output_type": "stream",
     "text": [
      "[19549, 16979, 17118, 17166, 17556, 16312, 18382, 18599, 16799, 17115, 19634, 17794]\n",
      "[18445, 16337, 15214, 7028, 2989, 5750, 9403, 14253, 9727]\n"
     ]
    }
   ],
   "source": [
    "import pandas as pd\n",
    "df = pd.read_csv('/Users/luke/Documents/UBCO/Data_301/Course_Project/course-project-solo_325/data/raw/rawdata.csv') \n",
    "df['firstseen'] = df['firstseen'].str.slice(stop=10)\n",
    "df['lastseen'] = df['lastseen'].str.slice(stop=10)\n",
    "#print(df)\n",
    "\n",
    "df_passenger = df[df['callsign'].str.contains('ANA')]\n",
    "#print(df_passenger)\n",
    "df_cargo = df[df['callsign'].str.contains('UPS')]\n",
    "\n",
    "\n",
    "one_19 = len(df_passenger[df_passenger['firstseen'].str.contains('2019-01')])\n",
    "two_19 = len(df_passenger[df_passenger['firstseen'].str.contains('2019-02')])\n",
    "three_19 = len(df_passenger[df_passenger['firstseen'].str.contains('2019-03')])\n",
    "four_19 = len(df_passenger[df_passenger['firstseen'].str.contains('2019-04')])\n",
    "five_19 = len(df_passenger[df_passenger['firstseen'].str.contains('2019-05')])\n",
    "six_19 = len(df_passenger[df_passenger['firstseen'].str.contains('2019-06')])\n",
    "seven_19 = len(df_passenger[df_passenger['firstseen'].str.contains('2019-07')])\n",
    "eight_19 = len(df_passenger[df_passenger['firstseen'].str.contains('2019-08')])\n",
    "nine_19 = len(df_passenger[df_passenger['firstseen'].str.contains('2019-09')])\n",
    "ten_19 = len(df_passenger[df_passenger['firstseen'].str.contains('2019-10')])\n",
    "eleven_19 = len(df_passenger[df_passenger['firstseen'].str.contains('2019-11')])\n",
    "twelve_19 = len(df_passenger[df_passenger['firstseen'].str.contains('2019-12')])\n",
    "\n",
    "one_20 = len(df_passenger[df_passenger['firstseen'].str.contains('2020-01')])\n",
    "two_20 = len(df_passenger[df_passenger['firstseen'].str.contains('2020-02')])\n",
    "three_20 = len(df_passenger[df_passenger['firstseen'].str.contains('2020-03')])\n",
    "four_20 = len(df_passenger[df_passenger['firstseen'].str.contains('2020-04')])\n",
    "five_20 = len(df_passenger[df_passenger['firstseen'].str.contains('2020-05')])\n",
    "six_20 = len(df_passenger[df_passenger['firstseen'].str.contains('2020-06')])\n",
    "seven_20 = len(df_passenger[df_passenger['firstseen'].str.contains('2020-07')])\n",
    "eight_20 = len(df_passenger[df_passenger['firstseen'].str.contains('2020-08')])\n",
    "nine_20 = len(df_passenger[df_passenger['firstseen'].str.contains('2020-09')])\n",
    "\n",
    "\n",
    "flight_month19 = [one_19, two_19,  three_19, four_19, five_19,six_19, seven_19, eight_19, nine_19, ten_19, eleven_19, twelve_19]\n",
    "flight_month20 = [one_20, two_20, three_20, four_20, five_20, six_20, seven_20, eight_20, nine_20]\n",
    "\n",
    "print(flight_month19)\n",
    "print(flight_month20)\n",
    "\n",
    "\n",
    "\n",
    "\n"
   ]
  },
  {
   "cell_type": "raw",
   "metadata": {},
   "source": []
  }
 ],
 "metadata": {
  "kernelspec": {
   "display_name": "Python 3",
   "language": "python",
   "name": "python3"
  },
  "language_info": {
   "codemirror_mode": {
    "name": "ipython",
    "version": 3
   },
   "file_extension": ".py",
   "mimetype": "text/x-python",
   "name": "python",
   "nbconvert_exporter": "python",
   "pygments_lexer": "ipython3",
   "version": "3.8.3"
  }
 },
 "nbformat": 4,
 "nbformat_minor": 4
}
