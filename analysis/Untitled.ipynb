{
 "cells": [
  {
   "cell_type": "code",
   "execution_count": 38,
   "metadata": {},
   "outputs": [
    {
     "name": "stderr",
     "output_type": "stream",
     "text": [
      "/Users/luke/opt/miniconda3/lib/python3.8/site-packages/IPython/core/interactiveshell.py:3145: DtypeWarning: Columns (1) have mixed types.Specify dtype option on import or set low_memory=False.\n",
      "  has_raised = await self.run_ast_nodes(code_ast.body, cell_name,\n"
     ]
    },
    {
     "ename": "KeyboardInterrupt",
     "evalue": "",
     "output_type": "error",
     "traceback": [
      "\u001b[0;31m---------------------------------------------------------------------------\u001b[0m",
      "\u001b[0;31mKeyboardInterrupt\u001b[0m                         Traceback (most recent call last)",
      "\u001b[0;32m<ipython-input-38-e1d04c2e6282>\u001b[0m in \u001b[0;36m<module>\u001b[0;34m\u001b[0m\n\u001b[1;32m     20\u001b[0m \u001b[0mdf20_5\u001b[0m \u001b[0;34m=\u001b[0m \u001b[0mpd\u001b[0m\u001b[0;34m.\u001b[0m\u001b[0mread_csv\u001b[0m\u001b[0;34m(\u001b[0m\u001b[0;34mr\"/Users/luke/Documents/UBCO/Data_301/Course_Project/course-project-solo_325/data/raw/flightlist_20200501_20200531.csv\"\u001b[0m\u001b[0;34m)\u001b[0m\u001b[0;34m\u001b[0m\u001b[0;34m\u001b[0m\u001b[0m\n\u001b[1;32m     21\u001b[0m \u001b[0mdf20_6\u001b[0m \u001b[0;34m=\u001b[0m \u001b[0mpd\u001b[0m\u001b[0;34m.\u001b[0m\u001b[0mread_csv\u001b[0m\u001b[0;34m(\u001b[0m\u001b[0;34mr\"/Users/luke/Documents/UBCO/Data_301/Course_Project/course-project-solo_325/data/raw/flightlist_20200601_20200630.csv\"\u001b[0m\u001b[0;34m)\u001b[0m\u001b[0;34m\u001b[0m\u001b[0;34m\u001b[0m\u001b[0m\n\u001b[0;32m---> 22\u001b[0;31m \u001b[0mdf20_7\u001b[0m \u001b[0;34m=\u001b[0m \u001b[0mpd\u001b[0m\u001b[0;34m.\u001b[0m\u001b[0mread_csv\u001b[0m\u001b[0;34m(\u001b[0m\u001b[0;34mr\"/Users/luke/Documents/UBCO/Data_301/Course_Project/course-project-solo_325/data/raw/flightlist_20200701_20200731.csv\"\u001b[0m\u001b[0;34m)\u001b[0m\u001b[0;34m\u001b[0m\u001b[0;34m\u001b[0m\u001b[0m\n\u001b[0m\u001b[1;32m     23\u001b[0m \u001b[0mdf20_8\u001b[0m \u001b[0;34m=\u001b[0m \u001b[0mpd\u001b[0m\u001b[0;34m.\u001b[0m\u001b[0mread_csv\u001b[0m\u001b[0;34m(\u001b[0m\u001b[0;34mr\"/Users/luke/Documents/UBCO/Data_301/Course_Project/course-project-solo_325/data/raw/flightlist_20200801_20200831.csv\"\u001b[0m\u001b[0;34m)\u001b[0m\u001b[0;34m\u001b[0m\u001b[0;34m\u001b[0m\u001b[0m\n\u001b[1;32m     24\u001b[0m \u001b[0mdf20_9\u001b[0m \u001b[0;34m=\u001b[0m \u001b[0mpd\u001b[0m\u001b[0;34m.\u001b[0m\u001b[0mread_csv\u001b[0m\u001b[0;34m(\u001b[0m\u001b[0;34mr\"/Users/luke/Documents/UBCO/Data_301/Course_Project/course-project-solo_325/data/raw/flightlist_20200901_20200930.csv\"\u001b[0m\u001b[0;34m)\u001b[0m\u001b[0;34m\u001b[0m\u001b[0;34m\u001b[0m\u001b[0m\n",
      "\u001b[0;31mKeyboardInterrupt\u001b[0m: "
     ]
    }
   ],
   "source": [
    "import pandas as pd\n",
    "\n",
    "df19_1 = pd.read_csv(r\"/Users/luke/Documents/UBCO/Data_301/Course_Project/course-project-solo_325/data/raw/flightlist_20190101_20190131.csv\")\n",
    "df19_2 = pd.read_csv(r\"/Users/luke/Documents/UBCO/Data_301/Course_Project/course-project-solo_325/data/raw/flightlist_20190201_20190228.csv\")\n",
    "df19_3 = pd.read_csv(r\"/Users/luke/Documents/UBCO/Data_301/Course_Project/course-project-solo_325/data/raw/flightlist_20190301_20190331.csv\")\n",
    "df19_4 = pd.read_csv(r\"/Users/luke/Documents/UBCO/Data_301/Course_Project/course-project-solo_325/data/raw/flightlist_20190401_20190430.csv\")\n",
    "df19_5 = pd.read_csv(r\"/Users/luke/Documents/UBCO/Data_301/Course_Project/course-project-solo_325/data/raw/flightlist_20190501_20190531.csv\")\n",
    "df19_6 = pd.read_csv(r\"/Users/luke/Documents/UBCO/Data_301/Course_Project/course-project-solo_325/data/raw/flightlist_20190601_20190630.csv\")\n",
    "df19_7 = pd.read_csv(r\"/Users/luke/Documents/UBCO/Data_301/Course_Project/course-project-solo_325/data/raw/flightlist_20190701_20190731.csv\")\n",
    "df19_8 = pd.read_csv(r\"/Users/luke/Documents/UBCO/Data_301/Course_Project/course-project-solo_325/data/raw/flightlist_20190801_20190831.csv\")\n",
    "df19_9 = pd.read_csv(r\"/Users/luke/Documents/UBCO/Data_301/Course_Project/course-project-solo_325/data/raw/flightlist_20190901_20190930.csv\")\n",
    "df19_10 = pd.read_csv(r\"/Users/luke/Documents/UBCO/Data_301/Course_Project/course-project-solo_325/data/raw/flightlist_20191001_20191031.csv\")\n",
    "df19_11 = pd.read_csv(r\"/Users/luke/Documents/UBCO/Data_301/Course_Project/course-project-solo_325/data/raw/flightlist_20191101_20191130.csv\")\n",
    "df19_12 = pd.read_csv(r\"/Users/luke/Documents/UBCO/Data_301/Course_Project/course-project-solo_325/data/raw/flightlist_20191201_20191231.csv\")\n",
    "\n",
    "df20_1 = pd.read_csv(r\"/Users/luke/Documents/UBCO/Data_301/Course_Project/course-project-solo_325/data/raw/flightlist_20200101_20200131.csv\")\n",
    "df20_2 = pd.read_csv(r\"/Users/luke/Documents/UBCO/Data_301/Course_Project/course-project-solo_325/data/raw/flightlist_20200201_20200229.csv\")\n",
    "df20_3 = pd.read_csv(r\"/Users/luke/Documents/UBCO/Data_301/Course_Project/course-project-solo_325/data/raw/flightlist_20200301_20200331.csv\")\n",
    "df20_4 = pd.read_csv(r\"/Users/luke/Documents/UBCO/Data_301/Course_Project/course-project-solo_325/data/raw/flightlist_20200401_20200430.csv\")\n",
    "df20_5 = pd.read_csv(r\"/Users/luke/Documents/UBCO/Data_301/Course_Project/course-project-solo_325/data/raw/flightlist_20200501_20200531.csv\")\n",
    "df20_6 = pd.read_csv(r\"/Users/luke/Documents/UBCO/Data_301/Course_Project/course-project-solo_325/data/raw/flightlist_20200601_20200630.csv\")\n",
    "df20_7 = pd.read_csv(r\"/Users/luke/Documents/UBCO/Data_301/Course_Project/course-project-solo_325/data/raw/flightlist_20200701_20200731.csv\")\n",
    "df20_8 = pd.read_csv(r\"/Users/luke/Documents/UBCO/Data_301/Course_Project/course-project-solo_325/data/raw/flightlist_20200801_20200831.csv\")\n",
    "df20_9 = pd.read_csv(r\"/Users/luke/Documents/UBCO/Data_301/Course_Project/course-project-solo_325/data/raw/flightlist_20200901_20200930.csv\")\n",
    "\n",
    "\n",
    "df19_1f = df19_1[df19_1['callsign'].str.contains(\"ANA\") | df19_1['callsign'].str.contains('UPS')] \n",
    "df19_2f = df19_2[df19_2['callsign'].str.contains(\"ANA\") | df19_2['callsign'].str.contains('UPS')] \n",
    "df19_3f = df19_3[df19_3['callsign'].str.contains(\"ANA\") | df19_3['callsign'].str.contains('UPS')] \n",
    "df19_4f = df19_4[df19_4['callsign'].str.contains(\"ANA\") | df19_4['callsign'].str.contains('UPS')] \n",
    "df19_5f = df19_5[df19_5['callsign'].str.contains(\"ANA\") | df19_5['callsign'].str.contains('UPS')] \n",
    "df19_6f = df19_6[df19_6['callsign'].str.contains(\"ANA\") | df19_6['callsign'].str.contains('UPS')] \n",
    "df19_7f = df19_7[df19_7['callsign'].str.contains(\"ANA\") | df19_7['callsign'].str.contains('UPS')] \n",
    "df19_8f = df19_8[df19_8['callsign'].str.contains(\"ANA\") | df19_8['callsign'].str.contains('UPS')] \n",
    "df19_9f = df19_9[df19_9['callsign'].str.contains(\"ANA\") | df19_9['callsign'].str.contains('UPS')] \n",
    "df19_10f = df19_10[df19_10['callsign'].str.contains(\"ANA\") | df19_10['callsign'].str.contains('UPS')] \n",
    "df19_11f = df19_11[df19_11['callsign'].str.contains(\"ANA\") | df19_11['callsign'].str.contains('UPS')] \n",
    "df19_12f = df19_12[df19_12['callsign'].str.contains(\"ANA\") | df19_12['callsign'].str.contains('UPS')] \n",
    "\n",
    "df20_1f = df20_1[df20_1['callsign'].str.contains(\"ANA\") | df20_1['callsign'].str.contains('UPS')] \n",
    "df20_2f = df20_2[df20_2['callsign'].str.contains(\"ANA\") | df20_2['callsign'].str.contains('UPS')] \n",
    "df20_3f = df20_3[df20_3['callsign'].str.contains(\"ANA\") | df20_3['callsign'].str.contains('UPS')] \n",
    "df20_4f = df20_4[df20_4['callsign'].str.contains(\"ANA\") | df20_4['callsign'].str.contains('UPS')] \n",
    "df20_5f = df20_5[df20_5['callsign'].str.contains(\"ANA\") | df20_5['callsign'].str.contains('UPS')] \n",
    "df20_6f = df20_6[df20_6['callsign'].str.contains(\"ANA\") | df20_6['callsign'].str.contains('UPS')] \n",
    "df20_7f = df20_7[df20_7['callsign'].str.contains(\"ANA\") | df20_7['callsign'].str.contains('UPS')] \n",
    "df20_8f = df20_8[df20_8['callsign'].str.contains(\"ANA\") | df20_8['callsign'].str.contains('UPS')] \n",
    "df20_9f = df20_9[df20_9['callsign'].str.contains(\"ANA\") | df20_9['callsign'].str.contains('UPS')] \n",
    "\n",
    "\n",
    "df_19 = pd.concat([df19_1f, df19_2f, df19_3f, df19_4f, df19_5f, df19_6f, df19_7f, df19_8f, df19_9f, df19_10f, df19_11f, df19_12f])\n",
    "df_20 = pd.concat([df20_1f, df20_2f, df20_3f, df20_4f, df20_5f, df20_6f, df20_7f, df20_8f, df20_9f])\n",
    "pd_complete = pd.concat([df_19, df_20])\n",
    "\n",
    "print(df_complete)\n",
    "df_complete.to_csv('rawdata.csv')\n"
   ]
  },
  {
   "cell_type": "code",
   "execution_count": null,
   "metadata": {},
   "outputs": [],
   "source": []
  },
  {
   "cell_type": "code",
   "execution_count": null,
   "metadata": {},
   "outputs": [],
   "source": []
  },
  {
   "cell_type": "code",
   "execution_count": null,
   "metadata": {},
   "outputs": [],
   "source": []
  }
 ],
 "metadata": {
  "kernelspec": {
   "display_name": "Python 3",
   "language": "python",
   "name": "python3"
  },
  "language_info": {
   "codemirror_mode": {
    "name": "ipython",
    "version": 3
   },
   "file_extension": ".py",
   "mimetype": "text/x-python",
   "name": "python",
   "nbconvert_exporter": "python",
   "pygments_lexer": "ipython3",
   "version": "3.8.3"
  }
 },
 "nbformat": 4,
 "nbformat_minor": 4
}
